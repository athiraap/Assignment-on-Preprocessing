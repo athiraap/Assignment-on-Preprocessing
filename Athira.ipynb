{
 "cells": [
  {
   "cell_type": "code",
   "execution_count": null,
   "id": "2a3acddc-3cbb-4c2f-a556-57a644cc9c73",
   "metadata": {},
   "outputs": [],
   "source": [
    "Load the dataset into python environment"
   ]
  },
  {
   "cell_type": "code",
   "execution_count": 14,
   "id": "3e24e36e-e619-4f6b-8726-b1a3d5f68181",
   "metadata": {},
   "outputs": [],
   "source": [
    "import pandas as pd\n",
    "from sklearn.preprocessing import MinMaxScaler, OneHotEncoder\n",
    "from sklearn.impute import SimpleImputer\n",
    "from sklearn.compose import ColumnTransformer\n",
    "from sklearn.model_selection import train_test_split\n",
    "\n",
    "titanic_df = pd.read_csv('/home/nandu/Downloads/titanic_dataset.csv')  # Replace 'titanic.csv'"
   ]
  },
  {
   "cell_type": "code",
   "execution_count": null,
   "id": "b3ebb837-1142-4fc1-ba6e-87d46df79b70",
   "metadata": {},
   "outputs": [],
   "source": [
    "Make ‘PassengerId’ as the index column"
   ]
  },
  {
   "cell_type": "code",
   "execution_count": 4,
   "id": "233cd07f-44e2-4aaf-9325-404f61eb2161",
   "metadata": {},
   "outputs": [],
   "source": [
    "titanic_df.set_index('PassengerId', inplace=True)"
   ]
  },
  {
   "cell_type": "code",
   "execution_count": null,
   "id": "5bd17f9d-88c4-492e-978e-01e4f2ec1dcb",
   "metadata": {},
   "outputs": [],
   "source": [
    "Check the basic details of the dataset"
   ]
  },
  {
   "cell_type": "code",
   "execution_count": 5,
   "id": "5f853c09-5df3-40a4-9a49-021f042c88e9",
   "metadata": {},
   "outputs": [
    {
     "name": "stdout",
     "output_type": "stream",
     "text": [
      "<class 'pandas.core.frame.DataFrame'>\n",
      "Int64Index: 891 entries, 1 to 891\n",
      "Data columns (total 11 columns):\n",
      " #   Column    Non-Null Count  Dtype  \n",
      "---  ------    --------------  -----  \n",
      " 0   Survived  891 non-null    int64  \n",
      " 1   Pclass    891 non-null    int64  \n",
      " 2   Name      891 non-null    object \n",
      " 3   Sex       891 non-null    object \n",
      " 4   Age       714 non-null    float64\n",
      " 5   SibSp     891 non-null    int64  \n",
      " 6   Parch     891 non-null    int64  \n",
      " 7   Ticket    891 non-null    object \n",
      " 8   Fare      891 non-null    float64\n",
      " 9   Cabin     204 non-null    object \n",
      " 10  Embarked  889 non-null    object \n",
      "dtypes: float64(2), int64(4), object(5)\n",
      "memory usage: 83.5+ KB\n",
      "None\n",
      "         Survived      Pclass         Age       SibSp       Parch        Fare\n",
      "count  891.000000  891.000000  714.000000  891.000000  891.000000  891.000000\n",
      "mean     0.383838    2.308642   29.699118    0.523008    0.381594   32.204208\n",
      "std      0.486592    0.836071   14.526497    1.102743    0.806057   49.693429\n",
      "min      0.000000    1.000000    0.420000    0.000000    0.000000    0.000000\n",
      "25%      0.000000    2.000000   20.125000    0.000000    0.000000    7.910400\n",
      "50%      0.000000    3.000000   28.000000    0.000000    0.000000   14.454200\n",
      "75%      1.000000    3.000000   38.000000    1.000000    0.000000   31.000000\n",
      "max      1.000000    3.000000   80.000000    8.000000    6.000000  512.329200\n"
     ]
    }
   ],
   "source": [
    "print(titanic_df.info())\n",
    "print(titanic_df.describe())"
   ]
  },
  {
   "cell_type": "code",
   "execution_count": null,
   "id": "d327dbec-7c0f-4d61-8f39-c7e6aec25887",
   "metadata": {},
   "outputs": [],
   "source": [
    "Fill in all the missing values present in all the columns in the dataset"
   ]
  },
  {
   "cell_type": "code",
   "execution_count": 7,
   "id": "6bae2f4c-4d93-4de0-92a1-915b4c309a1f",
   "metadata": {},
   "outputs": [],
   "source": [
    "numeric_columns = titanic_df.select_dtypes(include=['number']).columns\n",
    "imputer_numeric = SimpleImputer(strategy='mean')\n",
    "titanic_df[numeric_columns] = imputer_numeric.fit_transform(titanic_df[numeric_columns])\n",
    "\n",
    "# Step 4: Fill in missing values in non-numeric columns\n",
    "non_numeric_columns = titanic_df.select_dtypes(exclude=['number']).columns\n",
    "imputer_non_numeric = SimpleImputer(strategy='most_frequent')\n",
    "titanic_df[non_numeric_columns] = imputer_non_numeric.fit_transform(titanic_df[non_numeric_columns])"
   ]
  },
  {
   "cell_type": "code",
   "execution_count": null,
   "id": "1c7156d9-d1af-4d3a-a407-015fc4863148",
   "metadata": {},
   "outputs": [],
   "source": [
    "Check and handle outliers in at least 3 columns in the dataset"
   ]
  },
  {
   "cell_type": "code",
   "execution_count": 9,
   "id": "5ca56b75-0adf-4e45-9d37-07c626973f8d",
   "metadata": {},
   "outputs": [],
   "source": [
    "columns_with_outliers = ['Age', 'Fare', 'SibSp']\n",
    "\n",
    "for column in columns_with_outliers:\n",
    "    # Identify and handle outliers using z-score method\n",
    "    z_scores = (titanic_df[column] - titanic_df[column].mean()) / titanic_df[column].std()\n",
    "    outliers = (z_scores > 3) | (z_scores < -3)\n",
    "    titanic_df.loc[outliers, column] = titanic_df[column].median()"
   ]
  },
  {
   "cell_type": "code",
   "execution_count": null,
   "id": "d87a81bc-6e4e-41b3-821a-4d5813bfa23a",
   "metadata": {},
   "outputs": [],
   "source": [
    "Do min max scaling on the feature set (Take ‘Survived’ as target)"
   ]
  },
  {
   "cell_type": "code",
   "execution_count": 15,
   "id": "5495909f-7ca0-4954-8351-1631c32a9133",
   "metadata": {},
   "outputs": [],
   "source": [
    "categorical_columns = titanic_df.select_dtypes(include=['object']).columns\n",
    "\n",
    "# Create a ColumnTransformer to apply different transformations to different columns\n",
    "preprocessor = ColumnTransformer(\n",
    "    transformers=[\n",
    "        ('num', MinMaxScaler(), numeric_columns),\n",
    "        ('cat', OneHotEncoder(), categorical_columns)\n",
    "    ])\n",
    "\n",
    "# Apply the transformations to the entire dataset\n",
    "X = preprocessor.fit_transform(titanic_df)\n",
    "\n",
    "# Target variable\n",
    "y = titanic_df['Survived']\n",
    "\n",
    "# Optionally, split the data into training and testing sets\n",
    "X_train, X_test, y_train, y_test = train_test_split(X, y, test_size=0.2, random_state=42)"
   ]
  },
  {
   "cell_type": "code",
   "execution_count": null,
   "id": "1df56b0b-a767-4cd2-a8e6-02d0b993d84c",
   "metadata": {},
   "outputs": [],
   "source": []
  }
 ],
 "metadata": {
  "kernelspec": {
   "display_name": "Python 3 (ipykernel)",
   "language": "python",
   "name": "python3"
  },
  "language_info": {
   "codemirror_mode": {
    "name": "ipython",
    "version": 3
   },
   "file_extension": ".py",
   "mimetype": "text/x-python",
   "name": "python",
   "nbconvert_exporter": "python",
   "pygments_lexer": "ipython3",
   "version": "3.8.10"
  }
 },
 "nbformat": 4,
 "nbformat_minor": 5
}
